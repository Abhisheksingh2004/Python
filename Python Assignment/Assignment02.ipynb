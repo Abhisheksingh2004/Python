{
 "cells": [
  {
   "cell_type": "markdown",
   "id": "531d5d66-a8df-415c-a05d-26838fe711bf",
   "metadata": {},
   "source": [
    "# Abhishek Singh (57)"
   ]
  },
  {
   "cell_type": "markdown",
   "id": "fbf991e1-48f3-406d-a102-f2a62ca62001",
   "metadata": {},
   "source": [
    "## Assignment 02"
   ]
  },
  {
   "cell_type": "markdown",
   "id": "658bd5c9-ac96-4308-bfc4-4eb6093dc437",
   "metadata": {},
   "source": [
    "You are given a large log file containing various system events. Each line in the log file follows this format:\n",
    "[YYYY-MM-DD HH:MM:SS] [LOG_LEVEL] [MODULE] Message\n",
    "\n",
    "where:\n",
    "\n",
    "• YYYY-MM-DD HH:MM:SS is a timestamp.\n",
    "\n",
    "• LOG_LEVEL can be INFO, WARN, ERROR, or DEBUG.\n",
    "\n",
    "• MODULE represents the system module name (alphanumeric, can contain underscores).\n",
    "\n",
    "• Message is the actual log message (it may contain any characters).\n",
    "\n",
    "task is :\n",
    "Write a function extract_critical_errors(log_data: str) -> list[tuple] that takes a multiline string log_data (containing log entries) and returns a list of tuples containing:\n",
    "1. The timestamp\n",
    "2. The module name\n",
    "3. The error message\n",
    "   \n",
    "BUT only if:\n",
    "• The LOG_LEVEL is ERROR.\n",
    "\n",
    "• The message contains at least one IP address in IPv4 format (xxx.xxx.xxx.xxx, where xxx is in the range 0-255).\n",
    "\n",
    "• The message contains a hexadecimal error code, formatted as 0x followed by exactly 8 hexadecimal digits (0-9, A-F)."
   ]
  },
  {
   "cell_type": "code",
   "execution_count": 1,
   "id": "1d2bd31a-5247-42db-95ef-34311fa0de50",
   "metadata": {},
   "outputs": [],
   "source": [
    "import re"
   ]
  },
  {
   "cell_type": "code",
   "execution_count": 4,
   "id": "b84abf0c-30b3-4962-b331-cd0e9a248658",
   "metadata": {},
   "outputs": [
    {
     "name": "stdout",
     "output_type": "stream",
     "text": [
      "('2025-02-10 15:45:32', 'Net_Module', 'Connection timeout from 192.168.1.10. Error Code: 0xAB12CD34')\n",
      "('2025-02-10 17:12:05', 'Security_Module', 'Unauthorized access detected from 10.0.0.5. Error Code: 0xDEADBEEF')\n"
     ]
    }
   ],
   "source": [
    "def extract_critical_errors(log_data: str):\n",
    "    # Full regex pattern that captures timestamp, log level, module, and message\n",
    "    pattern = re.compile(\n",
    "        r'\\[(?P<timestamp>\\d{4}-\\d{2}-\\d{2} \\d{2}:\\d{2}:\\d{2})\\] '  # Timestamp\n",
    "        r'\\[ERROR\\] '  # Log level must be ERROR\n",
    "        r'\\[(?P<module>[A-Za-z0-9_]+)\\] '  # Module name\n",
    "        r'(?P<message>.*?)(?=\\n|$)',  # Message with non-greedy match\n",
    "        re.MULTILINE  # Handle multi-line log_data\n",
    "    )\n",
    "\n",
    "    # Regex to match a valid IPv4 address\n",
    "    ip_pattern = r'\\b(?:25[0-5]|2[0-4][0-9]|[01]?[0-9][0-9]?)\\.(?:25[0-5]|2[0-4][0-9]|[01]?[0-9][0-9]?)\\.(?:25[0-5]|2[0-4][0-9]|[01]?[0-9][0-9]?)\\.(?:25[0-5]|2[0-4][0-9]|[01]?[0-9][0-9]?)\\b'\n",
    "    \n",
    "    # Regex to match a hexadecimal error code\n",
    "    hex_pattern = r'0x[0-9A-Fa-f]{8}'\n",
    "\n",
    "    # List to store the results as tuples\n",
    "    critical_errors = []\n",
    "\n",
    "    # Find all matching log entries\n",
    "    matches = pattern.finditer(log_data)\n",
    "    for match in matches:\n",
    "        timestamp = match.group('timestamp')\n",
    "        module = match.group('module')\n",
    "        message = match.group('message')\n",
    "\n",
    "        # Check if the message contains both an IP address and a hexadecimal error code\n",
    "        ip_match = re.search(ip_pattern, message)\n",
    "        hex_match = re.search(hex_pattern, message)\n",
    "\n",
    "        # If both conditions are met, append the result to the list\n",
    "        if ip_match and hex_match:\n",
    "            critical_errors.append((timestamp, module, message))\n",
    "\n",
    "    return critical_errors\n",
    "\n",
    "\n",
    "# Example input\n",
    "log_data = '''[2025-02-10 14:23:01] [INFO] [Auth_Module] User login successful.\n",
    "[2025-02-10 15:45:32] [ERROR] [Net_Module] Connection timeout from 192.168.1.10. Error Code: 0xAB12CD34\n",
    "[2025-02-10 16:01:10] [WARN] [Disk_Module] Low disk space warning.\n",
    "[2025-02-10 17:12:05] [ERROR] [Security_Module] Unauthorized access detected from 10.0.0.5. Error Code: 0xDEADBEEF'''\n",
    "\n",
    "# Call the function with the log data\n",
    "critical_errors = extract_critical_errors(log_data)\n",
    "\n",
    "# Print the result\n",
    "for error in critical_errors:\n",
    "    print(error)"
   ]
  },
  {
   "cell_type": "code",
   "execution_count": null,
   "id": "de7abd7d-61f5-46d3-a80d-476c42690739",
   "metadata": {},
   "outputs": [],
   "source": []
  }
 ],
 "metadata": {
  "kernelspec": {
   "display_name": "Python 3 (ipykernel)",
   "language": "python",
   "name": "python3"
  },
  "language_info": {
   "codemirror_mode": {
    "name": "ipython",
    "version": 3
   },
   "file_extension": ".py",
   "mimetype": "text/x-python",
   "name": "python",
   "nbconvert_exporter": "python",
   "pygments_lexer": "ipython3",
   "version": "3.12.5"
  }
 },
 "nbformat": 4,
 "nbformat_minor": 5
}
