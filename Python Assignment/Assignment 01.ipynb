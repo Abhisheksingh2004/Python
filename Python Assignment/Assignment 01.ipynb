{
 "cells": [
  {
   "cell_type": "code",
   "execution_count": null,
   "id": "4d3bcf36-c7f6-407c-865d-b903c01bd43f",
   "metadata": {},
   "outputs": [],
   "source": [
    "# Initialise the Class for product"
   ]
  },
  {
   "cell_type": "code",
   "execution_count": 1,
   "id": "51ff93db-83b9-40ec-8fce-d3a8c529e46e",
   "metadata": {},
   "outputs": [],
   "source": [
    "class Product:\n",
    "    def __init__(self, name, price, stock):\n",
    "        self.name = name\n",
    "        self.price = price\n",
    "        self.stock = stock\n",
    "\n",
    "    def update_stock(self, quantity):\n",
    "        self.stock += quantity\n",
    "\n",
    "    def __str__(self):\n",
    "        return f\"Product: {self.name}, Price: ${self.price}, Stock: {self.stock}\""
   ]
  },
  {
   "cell_type": "code",
   "execution_count": null,
   "id": "4c3b0716-e0e0-4c02-b6de-5f2bcd2e7de5",
   "metadata": {},
   "outputs": [],
   "source": [
    "#Function to add the Products"
   ]
  },
  {
   "cell_type": "code",
   "execution_count": 2,
   "id": "5804604e-4e37-4c76-bd86-80271cb20eb3",
   "metadata": {},
   "outputs": [],
   "source": [
    "def add_product(products):\n",
    "    name = input(\"Enter product name: \")\n",
    "    price = float(input(\"Enter product price: \"))\n",
    "    stock = int(input(\"Enter product stock: \"))\n",
    "    products[name] = Product(name, price, stock)\n",
    "    print(\"Product added successfully!\")"
   ]
  },
  {
   "cell_type": "code",
   "execution_count": null,
   "id": "27ec9401-c982-4cc6-ae5f-8be544c8331a",
   "metadata": {},
   "outputs": [],
   "source": [
    "#Function to update the existing product stock"
   ]
  },
  {
   "cell_type": "code",
   "execution_count": 3,
   "id": "7a2de4e3-d39d-4397-bf98-27b92b1b29ad",
   "metadata": {},
   "outputs": [],
   "source": [
    "def update_product_stock(products):\n",
    "    name = input(\"Enter product name to update: \")\n",
    "    if name in products:\n",
    "        quantity = int(input(\"Enter quantity to add/remove: \"))\n",
    "        products[name].update_stock(quantity)\n",
    "        print(\"Stock updated successfully!\")\n",
    "    else:\n",
    "        print(\"Product not found.\")"
   ]
  },
  {
   "cell_type": "code",
   "execution_count": null,
   "id": "0329a97a-64db-44ec-a177-3601082bf318",
   "metadata": {},
   "outputs": [],
   "source": [
    "#Printing the Products name"
   ]
  },
  {
   "cell_type": "code",
   "execution_count": 4,
   "id": "4f2193d7-7852-4f91-92a0-17a41ab79d1c",
   "metadata": {},
   "outputs": [],
   "source": [
    "def display_product_details(products):\n",
    "    name = input(\"Enter product name: \")\n",
    "    if name in products:\n",
    "        print(products[name])\n",
    "    else:\n",
    "        print(\"Product not found.\")"
   ]
  },
  {
   "cell_type": "code",
   "execution_count": null,
   "id": "ae75a595-6991-430f-b67d-8d6cd2cfff62",
   "metadata": {},
   "outputs": [],
   "source": [
    "#Here the script will be executed from MAIN"
   ]
  },
  {
   "cell_type": "code",
   "execution_count": 5,
   "id": "7c5b6949-f076-4218-8d4d-84eb3c60dea7",
   "metadata": {},
   "outputs": [
    {
     "name": "stdout",
     "output_type": "stream",
     "text": [
      "\n",
      "Menu:\n",
      "1. Add a new product\n",
      "2. Update the stock of an existing product\n",
      "3. Display the details of a product\n",
      "4. Exit the program\n"
     ]
    },
    {
     "name": "stdin",
     "output_type": "stream",
     "text": [
      "Enter your choice:  1\n",
      "Enter product name:  Laptop\n",
      "Enter product price:  999.99\n",
      "Enter product stock:  10\n"
     ]
    },
    {
     "name": "stdout",
     "output_type": "stream",
     "text": [
      "Product added successfully!\n",
      "\n",
      "Menu:\n",
      "1. Add a new product\n",
      "2. Update the stock of an existing product\n",
      "3. Display the details of a product\n",
      "4. Exit the program\n"
     ]
    },
    {
     "name": "stdin",
     "output_type": "stream",
     "text": [
      "Enter your choice:  2\n",
      "Enter product name to update:  Laptop\n",
      "Enter quantity to add/remove:  -2\n"
     ]
    },
    {
     "name": "stdout",
     "output_type": "stream",
     "text": [
      "Stock updated successfully!\n",
      "\n",
      "Menu:\n",
      "1. Add a new product\n",
      "2. Update the stock of an existing product\n",
      "3. Display the details of a product\n",
      "4. Exit the program\n"
     ]
    },
    {
     "name": "stdin",
     "output_type": "stream",
     "text": [
      "Enter your choice:  3\n",
      "Enter product name:  Laptop\n"
     ]
    },
    {
     "name": "stdout",
     "output_type": "stream",
     "text": [
      "Product: Laptop, Price: $999.99, Stock: 8\n",
      "\n",
      "Menu:\n",
      "1. Add a new product\n",
      "2. Update the stock of an existing product\n",
      "3. Display the details of a product\n",
      "4. Exit the program\n"
     ]
    },
    {
     "name": "stdin",
     "output_type": "stream",
     "text": [
      "Enter your choice:  4\n"
     ]
    },
    {
     "name": "stdout",
     "output_type": "stream",
     "text": [
      "Exiting the system. Goodbye!\n"
     ]
    }
   ],
   "source": [
    "if __name__ == \"__main__\":\n",
    "    products={}\n",
    "    while True:\n",
    "        print(\"\\nMenu:\")\n",
    "        print(\"1. Add a new product\\n2. Update the stock of an existing product\\n3. Display the details of a product\\n4. Exit the program\")\n",
    "        choice = input(\"Enter your choice: \")\n",
    "        \n",
    "        if choice == '1':\n",
    "            add_product(products)\n",
    "        elif choice == '2':\n",
    "            update_product_stock(products)\n",
    "        elif choice == '3':\n",
    "            display_product_details(products)\n",
    "        elif choice == '4':\n",
    "            print(\"Exiting the system. Goodbye!\")\n",
    "            break\n",
    "        else:\n",
    "            print(\"Invalid choice. Please try again.\")"
   ]
  },
  {
   "cell_type": "code",
   "execution_count": null,
   "id": "bada36ab-7b27-477f-ae97-ec8b28c1f9b2",
   "metadata": {},
   "outputs": [],
   "source": []
  }
 ],
 "metadata": {
  "kernelspec": {
   "display_name": "Python 3 (ipykernel)",
   "language": "python",
   "name": "python3"
  },
  "language_info": {
   "codemirror_mode": {
    "name": "ipython",
    "version": 3
   },
   "file_extension": ".py",
   "mimetype": "text/x-python",
   "name": "python",
   "nbconvert_exporter": "python",
   "pygments_lexer": "ipython3",
   "version": "3.12.5"
  }
 },
 "nbformat": 4,
 "nbformat_minor": 5
}
