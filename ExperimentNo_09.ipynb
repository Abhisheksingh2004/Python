{
 "cells": [
  {
   "cell_type": "markdown",
   "id": "93ce221d-b076-429e-b2f4-4e32ad14391b",
   "metadata": {},
   "source": [
    "# Abhishek Singh (57)"
   ]
  },
  {
   "cell_type": "code",
   "execution_count": 1,
   "id": "12c8772c-8e81-46c6-b3d5-02939221cf1e",
   "metadata": {},
   "outputs": [],
   "source": [
    "import numpy as np"
   ]
  },
  {
   "cell_type": "markdown",
   "id": "1a3129b1-8a41-48e4-a204-c2cdb5ddb6eb",
   "metadata": {},
   "source": [
    "## 1. Array Creation Techniques"
   ]
  },
  {
   "cell_type": "markdown",
   "id": "5444703c-eaf7-466b-ab57-50e0da0034ee",
   "metadata": {},
   "source": [
    "### a. Creating an array from a list"
   ]
  },
  {
   "cell_type": "code",
   "execution_count": 4,
   "id": "ecec4109-52d4-4320-ae58-7a553cc9642f",
   "metadata": {},
   "outputs": [
    {
     "data": {
      "text/plain": [
       "array([1, 2, 3, 4, 5])"
      ]
     },
     "execution_count": 4,
     "metadata": {},
     "output_type": "execute_result"
    }
   ],
   "source": [
    "array_from_list = np.array([1, 2, 3, 4, 5])\n",
    "array_from_list"
   ]
  },
  {
   "cell_type": "markdown",
   "id": "eaa85b51-cf23-4fb7-b113-1d806db5d56c",
   "metadata": {},
   "source": [
    "### b. Using arange()"
   ]
  },
  {
   "cell_type": "code",
   "execution_count": 5,
   "id": "8f2af07f-dca0-417b-ac37-27b1eeb73582",
   "metadata": {},
   "outputs": [
    {
     "data": {
      "text/plain": [
       "array([0, 2, 4, 6, 8])"
      ]
     },
     "execution_count": 5,
     "metadata": {},
     "output_type": "execute_result"
    }
   ],
   "source": [
    "array_arange = np.arange(0, 10, 2)\n",
    "array_arange"
   ]
  },
  {
   "cell_type": "markdown",
   "id": "2e9152b6-1cea-49af-bc12-dd15775a1f8d",
   "metadata": {},
   "source": [
    "### c. Using linspace()"
   ]
  },
  {
   "cell_type": "code",
   "execution_count": 6,
   "id": "86da6afd-bf23-47f4-aa76-f0b141d6e920",
   "metadata": {},
   "outputs": [
    {
     "data": {
      "text/plain": [
       "array([ 0. ,  2.5,  5. ,  7.5, 10. ])"
      ]
     },
     "execution_count": 6,
     "metadata": {},
     "output_type": "execute_result"
    }
   ],
   "source": [
    "array_linspace = np.linspace(0, 10, 5)  # Divides 0 to 10 into 5 points\n",
    "array_linspace"
   ]
  },
  {
   "cell_type": "markdown",
   "id": "c151033e-4102-4d99-bc1b-761e0cce8df4",
   "metadata": {},
   "source": [
    "### d. Using zeros()"
   ]
  },
  {
   "cell_type": "code",
   "execution_count": 8,
   "id": "f1042aa8-c5f3-4cc0-940f-21e1b397c403",
   "metadata": {},
   "outputs": [
    {
     "data": {
      "text/plain": [
       "array([[0., 0., 0.],\n",
       "       [0., 0., 0.],\n",
       "       [0., 0., 0.]])"
      ]
     },
     "execution_count": 8,
     "metadata": {},
     "output_type": "execute_result"
    }
   ],
   "source": [
    "array_zeros = np.zeros((3, 3))\n",
    "array_zeros"
   ]
  },
  {
   "cell_type": "markdown",
   "id": "91612c0f-7475-43f4-98ee-1ed303396cbd",
   "metadata": {},
   "source": [
    "### e. Using ones()"
   ]
  },
  {
   "cell_type": "code",
   "execution_count": 9,
   "id": "03709c4c-3e1b-485b-9208-469408e9484c",
   "metadata": {},
   "outputs": [
    {
     "data": {
      "text/plain": [
       "array([[1., 1.],\n",
       "       [1., 1.]])"
      ]
     },
     "execution_count": 9,
     "metadata": {},
     "output_type": "execute_result"
    }
   ],
   "source": [
    "array_ones = np.ones((2, 2))\n",
    "array_ones"
   ]
  },
  {
   "cell_type": "markdown",
   "id": "d888a001-a0d8-4762-9860-618a2126fe75",
   "metadata": {},
   "source": [
    "### f. Using eye() for identity matrix"
   ]
  },
  {
   "cell_type": "code",
   "execution_count": 10,
   "id": "65c4044d-d03b-46eb-af70-d421f5fd86ee",
   "metadata": {},
   "outputs": [
    {
     "data": {
      "text/plain": [
       "array([[1., 0., 0.],\n",
       "       [0., 1., 0.],\n",
       "       [0., 0., 1.]])"
      ]
     },
     "execution_count": 10,
     "metadata": {},
     "output_type": "execute_result"
    }
   ],
   "source": [
    "array_eye = np.eye(3)\n",
    "array_eye"
   ]
  },
  {
   "cell_type": "markdown",
   "id": "99d36849-acef-4d18-ba7a-fe5725eb17f9",
   "metadata": {},
   "source": [
    "### g. Using random() for random values"
   ]
  },
  {
   "cell_type": "code",
   "execution_count": 11,
   "id": "3ea46746-4f4d-4434-8d8a-3c245e5de5ee",
   "metadata": {},
   "outputs": [
    {
     "data": {
      "text/plain": [
       "array([[0.7773627 , 0.8874668 , 0.50678014],\n",
       "       [0.8517379 , 0.94119753, 0.26766474],\n",
       "       [0.11684346, 0.90534899, 0.80907213]])"
      ]
     },
     "execution_count": 11,
     "metadata": {},
     "output_type": "execute_result"
    }
   ],
   "source": [
    "array_random = np.random.random((3, 3))\n",
    "array_random"
   ]
  },
  {
   "cell_type": "markdown",
   "id": "26004bc6-fae5-419f-b009-f856faf5b47c",
   "metadata": {},
   "source": [
    "### 2. Different NumPy Methods"
   ]
  },
  {
   "cell_type": "markdown",
   "id": "32ba6681-d7e9-48a6-b829-a74b502fe43a",
   "metadata": {},
   "source": [
    "### a. Reshaping an array"
   ]
  },
  {
   "cell_type": "code",
   "execution_count": 16,
   "id": "c2a27f76-3466-43d1-bab7-a55bbf39c463",
   "metadata": {},
   "outputs": [
    {
     "data": {
      "text/plain": [
       "array([[1, 2, 3],\n",
       "       [4, 5, 6],\n",
       "       [7, 8, 9]])"
      ]
     },
     "execution_count": 16,
     "metadata": {},
     "output_type": "execute_result"
    }
   ],
   "source": [
    "reshaped_array = np.arange(1, 10).reshape(3, 3)\n",
    "reshaped_array"
   ]
  },
  {
   "cell_type": "markdown",
   "id": "f74c7ec9-6502-4592-8bd6-85292f7a4b37",
   "metadata": {},
   "source": [
    "### b. Transposing an array"
   ]
  },
  {
   "cell_type": "code",
   "execution_count": 13,
   "id": "11d39aaf-566e-4bfd-a03e-b14ece049e4c",
   "metadata": {},
   "outputs": [
    {
     "data": {
      "text/plain": [
       "array([[1, 4, 7],\n",
       "       [2, 5, 8],\n",
       "       [3, 6, 9]])"
      ]
     },
     "execution_count": 13,
     "metadata": {},
     "output_type": "execute_result"
    }
   ],
   "source": [
    "transposed_array = reshaped_array.T\n",
    "transposed_array"
   ]
  },
  {
   "cell_type": "markdown",
   "id": "aea3ab37-5fe2-4459-a23f-56ff7a259362",
   "metadata": {},
   "source": [
    "### c. Mathematical operations"
   ]
  },
  {
   "cell_type": "code",
   "execution_count": 17,
   "id": "07d5c208-755c-443e-9b49-84a1b1b5ac00",
   "metadata": {},
   "outputs": [
    {
     "data": {
      "text/plain": [
       "array([1.        , 1.41421356, 1.73205081])"
      ]
     },
     "execution_count": 17,
     "metadata": {},
     "output_type": "execute_result"
    }
   ],
   "source": [
    "array_math = np.array([1, 2, 3])\n",
    "array_math + 2\n",
    "array_math * 3\n",
    "np.sqrt(array_math)"
   ]
  },
  {
   "cell_type": "markdown",
   "id": "3f9e5583-5bc0-4208-9ab1-b51f2e9a3169",
   "metadata": {},
   "source": [
    "### c. Mathematical operations"
   ]
  },
  {
   "cell_type": "code",
   "execution_count": 18,
   "id": "b69d61e2-88da-43bf-9144-69470a47b9d5",
   "metadata": {},
   "outputs": [
    {
     "data": {
      "text/plain": [
       "array([1.        , 1.41421356, 1.73205081])"
      ]
     },
     "execution_count": 18,
     "metadata": {},
     "output_type": "execute_result"
    }
   ],
   "source": [
    "array_math = np.array([1, 2, 3])\n",
    "array_math + 2\n",
    "array_math * 3\n",
    "np.sqrt(array_math)"
   ]
  },
  {
   "cell_type": "markdown",
   "id": "64e188dd-fd70-45ab-b2ad-d3682c970738",
   "metadata": {},
   "source": [
    "### d. Aggregation methods"
   ]
  },
  {
   "cell_type": "code",
   "execution_count": 21,
   "id": "1a57058f-3bd1-4370-9e40-919a3729ec26",
   "metadata": {},
   "outputs": [
    {
     "data": {
      "text/plain": [
       "1"
      ]
     },
     "execution_count": 21,
     "metadata": {},
     "output_type": "execute_result"
    }
   ],
   "source": [
    "np.sum(array_math)\n",
    "np.mean(array_math)\n",
    "np.max(array_math)\n",
    "np.min(array_math)"
   ]
  },
  {
   "cell_type": "markdown",
   "id": "bc0a67e8-4aa8-4070-b1b7-5276d7a7e8fd",
   "metadata": {},
   "source": [
    "### e. Concatenation of arrays"
   ]
  },
  {
   "cell_type": "code",
   "execution_count": 22,
   "id": "7ed8075f-f636-48a8-8ce3-e21691887a0a",
   "metadata": {},
   "outputs": [
    {
     "data": {
      "text/plain": [
       "array([1, 2, 3, 4, 5, 6])"
      ]
     },
     "execution_count": 22,
     "metadata": {},
     "output_type": "execute_result"
    }
   ],
   "source": [
    "array_a = np.array([1, 2, 3])\n",
    "array_b = np.array([4, 5, 6])\n",
    "concat_array = np.concatenate((array_a, array_b))\n",
    "concat_array"
   ]
  },
  {
   "cell_type": "markdown",
   "id": "9a5d8eee-a633-4bb5-acee-2d7a0771fc68",
   "metadata": {},
   "source": [
    "### f. Sorting an array"
   ]
  },
  {
   "cell_type": "code",
   "execution_count": 25,
   "id": "5e608527-0042-4bc1-a11d-51a269731267",
   "metadata": {},
   "outputs": [
    {
     "data": {
      "text/plain": [
       "array([1, 3, 5, 8])"
      ]
     },
     "execution_count": 25,
     "metadata": {},
     "output_type": "execute_result"
    }
   ],
   "source": [
    "unsorted_array = np.array([8,3,5,1])\n",
    "sorted_array = np.sort(unsorted_array)\n",
    "sorted_array"
   ]
  },
  {
   "cell_type": "markdown",
   "id": "1827b8cb-9f33-4900-be8a-f780e2852776",
   "metadata": {},
   "source": [
    "### g. Indexing and Slicing"
   ]
  },
  {
   "cell_type": "code",
   "execution_count": 23,
   "id": "fd55d68c-aae6-4eec-aa76-0a27e00de8f1",
   "metadata": {},
   "outputs": [
    {
     "data": {
      "text/plain": [
       "array([2, 3])"
      ]
     },
     "execution_count": 23,
     "metadata": {},
     "output_type": "execute_result"
    }
   ],
   "source": [
    "indexed_value = array_math[1]  # Indexing\n",
    "indexed_value\n",
    "sliced_array = array_math[1:3]  # Slicing\n",
    "sliced_array"
   ]
  },
  {
   "cell_type": "markdown",
   "id": "1fe66223-c7dd-458f-82dd-4cabcf76cad0",
   "metadata": {},
   "source": [
    "### h. Boolean Masking"
   ]
  },
  {
   "cell_type": "code",
   "execution_count": 24,
   "id": "7974b5e6-d73f-4b5c-9544-47f6484e1e0f",
   "metadata": {},
   "outputs": [
    {
     "data": {
      "text/plain": [
       "array([3])"
      ]
     },
     "execution_count": 24,
     "metadata": {},
     "output_type": "execute_result"
    }
   ],
   "source": [
    "boolean_mask = array_math > 2\n",
    "boolean_mask\n",
    "array_math[boolean_mask]"
   ]
  },
  {
   "cell_type": "code",
   "execution_count": null,
   "id": "c7c40b3d-5acb-4d40-ae51-f72a55e2cd35",
   "metadata": {},
   "outputs": [],
   "source": []
  }
 ],
 "metadata": {
  "kernelspec": {
   "display_name": "Python 3 (ipykernel)",
   "language": "python",
   "name": "python3"
  },
  "language_info": {
   "codemirror_mode": {
    "name": "ipython",
    "version": 3
   },
   "file_extension": ".py",
   "mimetype": "text/x-python",
   "name": "python",
   "nbconvert_exporter": "python",
   "pygments_lexer": "ipython3",
   "version": "3.12.3"
  }
 },
 "nbformat": 4,
 "nbformat_minor": 5
}
